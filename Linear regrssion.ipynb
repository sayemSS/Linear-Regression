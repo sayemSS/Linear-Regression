{
 "cells": [
  {
   "cell_type": "code",
   "execution_count": null,
   "id": "c8642c6d-0607-4358-aafe-1a175cd4fc67",
   "metadata": {},
   "outputs": [],
   "source": [
    "import pandas as pd\n",
    "import matplotlib.pyplot as plt"
   ]
  },
  {
   "cell_type": "code",
   "execution_count": null,
   "id": "c5d3a803-2c17-4278-8d82-945238885a98",
   "metadata": {},
   "outputs": [],
   "source": [
    "df = pd.read_csv(\"nasdaq100.csv\", sep=';')"
   ]
  },
  {
   "cell_type": "code",
   "execution_count": null,
   "id": "5819271f-fef0-45e2-a705-ef27e7ff6c58",
   "metadata": {},
   "outputs": [],
   "source": [
    "df.head()"
   ]
  },
  {
   "cell_type": "code",
   "execution_count": null,
   "id": "e548994e-e604-4ac8-9cd1-e3ad52d71e02",
   "metadata": {},
   "outputs": [],
   "source": [
    "df.isnull().sum()"
   ]
  },
  {
   "cell_type": "code",
   "execution_count": null,
   "id": "377e94c7-356a-4f0e-8176-008d9af72516",
   "metadata": {},
   "outputs": [],
   "source": [
    "df = df.drop('Date', axis=1)"
   ]
  },
  {
   "cell_type": "code",
   "execution_count": null,
   "id": "af3c2dec-64f5-44d6-a0bd-382222fd2cad",
   "metadata": {},
   "outputs": [],
   "source": [
    "df.head()"
   ]
  },
  {
   "cell_type": "code",
   "execution_count": null,
   "id": "33cf12b8-2618-43ad-a0e0-1cfe6c4f739a",
   "metadata": {},
   "outputs": [],
   "source": [
    "plt.scatter(df['Starting (USD)'], df['Ending (USD)'])\n",
    "plt.xlabel('Starting Usd')\n",
    "plt.ylabel('Ending Usd')\n",
    "plt.title('NASDAQ 100 Stock Price')\n",
    "plt.show()"
   ]
  },
  {
   "cell_type": "code",
   "execution_count": null,
   "id": "493a5ec8-3848-442f-a1bd-7af6d53b5ac5",
   "metadata": {},
   "outputs": [],
   "source": [
    "x = df.drop('Ending (USD)', axis =1)\n",
    "x.head()"
   ]
  },
  {
   "cell_type": "code",
   "execution_count": null,
   "id": "949c8d94-5195-461b-a253-ce8df0e75186",
   "metadata": {},
   "outputs": [],
   "source": [
    "y = df[['Ending (USD)']]\n",
    "y.head()"
   ]
  },
  {
   "cell_type": "markdown",
   "id": "4be0241f-050f-4800-8fb0-6f58ffb2e9cc",
   "metadata": {},
   "source": [
    "# Linear Regression"
   ]
  },
  {
   "cell_type": "code",
   "execution_count": null,
   "id": "6778743e-8972-4f1b-b668-627031cbd7ee",
   "metadata": {},
   "outputs": [],
   "source": [
    "from sklearn.linear_model import LinearRegression"
   ]
  },
  {
   "cell_type": "code",
   "execution_count": null,
   "id": "e856880b-b437-4975-a5ce-d3d0cf5af3a3",
   "metadata": {},
   "outputs": [],
   "source": [
    "reg = LinearRegression()"
   ]
  },
  {
   "cell_type": "code",
   "execution_count": null,
   "id": "e2dc1487-4283-46e4-8449-4734b96f4c41",
   "metadata": {},
   "outputs": [],
   "source": [
    "x.mean()"
   ]
  },
  {
   "cell_type": "code",
   "execution_count": null,
   "id": "f8a47bb6-6104-4f52-bfc1-879415af5a23",
   "metadata": {},
   "outputs": [],
   "source": [
    "y.mean()"
   ]
  },
  {
   "cell_type": "code",
   "execution_count": null,
   "id": "60f655ce-87bf-4a73-9870-e98109f745ed",
   "metadata": {},
   "outputs": [],
   "source": [
    "plt.scatter(x.mean(), y.mean())\n",
    "plt.scatter(df['Starting (USD)'], df['Ending (USD)'])\n",
    "plt.xlabel('Starting Usd')\n",
    "plt.ylabel('Ending Usd')\n",
    "plt.title('NASDAQ 100 Stock Price')\n",
    "plt.show()"
   ]
  },
  {
   "cell_type": "code",
   "execution_count": null,
   "id": "a1136e6f-b418-461c-91db-8a7cfe8820d1",
   "metadata": {},
   "outputs": [],
   "source": [
    "reg.fit(x, y)  # train the ml model"
   ]
  },
  {
   "cell_type": "code",
   "execution_count": null,
   "id": "408aff8b-8296-423c-b1b7-afd3c7a6771d",
   "metadata": {},
   "outputs": [],
   "source": [
    "m = reg.coef_\n",
    "m"
   ]
  },
  {
   "cell_type": "code",
   "execution_count": null,
   "id": "fbbeb0f6-f641-4fc0-9273-80fc186719e4",
   "metadata": {},
   "outputs": [],
   "source": [
    "c = reg.intercept_\n",
    "c"
   ]
  },
  {
   "cell_type": "code",
   "execution_count": null,
   "id": "808eb090-99c2-473b-be50-9ed1f8198fb1",
   "metadata": {},
   "outputs": [],
   "source": [
    "reg.predict([[16700]])"
   ]
  },
  {
   "cell_type": "code",
   "execution_count": null,
   "id": "a1207edd-f91f-4efc-b354-b8f99b7a39d8",
   "metadata": {},
   "outputs": [],
   "source": [
    "df['Predicted_y'] = reg.predict(x)\n",
    "df"
   ]
  },
  {
   "cell_type": "code",
   "execution_count": null,
   "id": "913151cd-1e3d-4855-989f-262350c5104e",
   "metadata": {},
   "outputs": [],
   "source": [
    "plt.plot(x, reg.predict(x))\n",
    "plt.scatter(x.mean(), y.mean())\n",
    "plt.scatter(df['Starting (USD)'], df['Ending (USD)'])\n",
    "plt.xlabel('Starting Usd')\n",
    "plt.ylabel('Ending Usd')\n",
    "plt.title('NASDAQ 100 Stock Price')\n",
    "plt.show()"
   ]
  },
  {
   "cell_type": "markdown",
   "id": "ecf5d90c-005e-40c3-b1d5-9ed511672b36",
   "metadata": {},
   "source": [
    "# Loss & Cost function"
   ]
  },
  {
   "cell_type": "code",
   "execution_count": null,
   "id": "d4335d7c-9efe-4937-8b85-cc45cdfe5af3",
   "metadata": {},
   "outputs": [],
   "source": [
    "df['Loss'] = df['Ending (USD)'] - df['Predicted_y']"
   ]
  },
  {
   "cell_type": "code",
   "execution_count": null,
   "id": "43da992a-f3f4-4d12-a6d5-0fbece9e0c6c",
   "metadata": {},
   "outputs": [],
   "source": [
    "df"
   ]
  },
  {
   "cell_type": "code",
   "execution_count": null,
   "id": "81109857-1886-4629-bdeb-364deceaeac9",
   "metadata": {},
   "outputs": [],
   "source": [
    "from sklearn.metrics import mean_squared_error, mean_absolute_error"
   ]
  },
  {
   "cell_type": "code",
   "execution_count": null,
   "id": "bc78e4aa-ce9f-4b62-979e-d74c303a1f8e",
   "metadata": {},
   "outputs": [],
   "source": [
    "mse = mean_squared_error(df['Ending (USD)'], df['Predicted_y'])\n",
    "mse"
   ]
  },
  {
   "cell_type": "code",
   "execution_count": null,
   "id": "333a9ed5-b951-4651-b09e-aa512a015c09",
   "metadata": {},
   "outputs": [],
   "source": [
    "mae = mean_absolute_error(df['Ending (USD)'], df['Predicted_y'])\n",
    "mae"
   ]
  },
  {
   "cell_type": "code",
   "execution_count": null,
   "id": "e2507f4a-f6e1-42cc-ac70-872f6bfbb084",
   "metadata": {},
   "outputs": [],
   "source": [
    "reg.score(x, y)"
   ]
  },
  {
   "cell_type": "code",
   "execution_count": null,
   "id": "b484397e-9fdf-4665-98e9-2527fd464192",
   "metadata": {},
   "outputs": [],
   "source": [
    "plt.plot(x, reg.predict(x))\n",
    "plt.scatter(x.mean(), y.mean())\n",
    "plt.scatter(df['Starting (USD)'], df['Ending (USD)'])\n",
    "plt.scatter(df['Starting (USD)'], reg.predict(x))\n",
    "plt.xlabel('Starting Usd')\n",
    "plt.ylabel('Ending Usd')\n",
    "plt.title('NASDAQ 100 Stock Price')\n",
    "plt.show()"
   ]
  }
 ],
 "metadata": {
  "kernelspec": {
   "display_name": "Python 3 (ipykernel)",
   "language": "python",
   "name": "python3"
  },
  "language_info": {
   "codemirror_mode": {
    "name": "ipython",
    "version": 3
   },
   "file_extension": ".py",
   "mimetype": "text/x-python",
   "name": "python",
   "nbconvert_exporter": "python",
   "pygments_lexer": "ipython3",
   "version": "3.12.8"
  }
 },
 "nbformat": 4,
 "nbformat_minor": 5
}
